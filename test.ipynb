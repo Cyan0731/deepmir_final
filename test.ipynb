{
 "cells": [
  {
   "cell_type": "code",
   "execution_count": 1,
   "metadata": {},
   "outputs": [],
   "source": [
    "import librosa\n",
    "import os\n",
    "from IPython.display import Audio\n",
    "import soundfile as sf"
   ]
  },
  {
   "cell_type": "code",
   "execution_count": 11,
   "metadata": {},
   "outputs": [],
   "source": [
    "number = '0239'\n",
    "\n",
    "# input_dir = '/home/cyan/workstation/DL_music/final/audiocraft/examples/cond_finetune_from_mid/'\n",
    "# input_dir = '/home/cyan/workstation/DL_music/final/audiocraft/examples/cond_finetune/'\n",
    "input_dir = '/home/cyan/workstation/DL_music/final/audiocraft/examples/gt_accom/'\n",
    "\n",
    "vocal_dir = '/home/cyan/workstation/DL_music/final/audiocraft/examples/vocal_lead/'"
   ]
  },
  {
   "cell_type": "code",
   "execution_count": 14,
   "metadata": {},
   "outputs": [],
   "source": [
    "start = 57\n",
    "\n",
    "dur = 16\n",
    "accom, sr = librosa.load(os.path.join(input_dir, f\"{number}.wav\"), sr=32000)\n",
    "vocal, sr = librosa.load(os.path.join(vocal_dir, f\"{number}.wav\"), sr=32000)\n",
    "vocal = vocal[int(sr*start):int(sr*(dur+start))]\n",
    "accom = accom[int(sr*start):int(sr*(dur+start))]\n",
    "\n",
    "sf.write(f'./examples/merge/{number}.wav', accom*0.5+vocal, sr)"
   ]
  },
  {
   "cell_type": "code",
   "execution_count": null,
   "metadata": {},
   "outputs": [],
   "source": []
  },
  {
   "cell_type": "code",
   "execution_count": 18,
   "metadata": {},
   "outputs": [
    {
     "name": "stderr",
     "output_type": "stream",
     "text": [
      "Some weights of the model checkpoint at m-a-p/MERT-v1-330M were not used when initializing MERTModel: ['encoder.pos_conv_embed.conv.weight_g', 'encoder.pos_conv_embed.conv.weight_v']\n",
      "- This IS expected if you are initializing MERTModel from the checkpoint of a model trained on another task or with another architecture (e.g. initializing a BertForSequenceClassification model from a BertForPreTraining model).\n",
      "- This IS NOT expected if you are initializing MERTModel from the checkpoint of a model that you expect to be exactly identical (initializing a BertForSequenceClassification model from a BertForSequenceClassification model).\n",
      "Some weights of MERTModel were not initialized from the model checkpoint at m-a-p/MERT-v1-330M and are newly initialized: ['encoder.pos_conv_embed.conv.parametrizations.weight.original0', 'encoder.pos_conv_embed.conv.parametrizations.weight.original1']\n",
      "You should probably TRAIN this model on a down-stream task to be able to use it for predictions and inference.\n",
      "/home/cyan/anaconda3/envs/DL_music/lib/python3.9/site-packages/torch/nn/utils/weight_norm.py:30: UserWarning: torch.nn.utils.weight_norm is deprecated in favor of torch.nn.utils.parametrizations.weight_norm.\n",
      "  warnings.warn(\"torch.nn.utils.weight_norm is deprecated in favor of torch.nn.utils.parametrizations.weight_norm.\")\n"
     ]
    }
   ],
   "source": [
    "import torchaudio\n",
    "import torch\n",
    "from audiocraft.models import MusicGen\n",
    "from audiocraft.data.audio import audio_write\n",
    "from glob import glob\n",
    "\n",
    "start = 1.8\n",
    "number = '0231'\n",
    "# model = MusicGen.get_pretrained('ckpt/cond_finetune')\n",
    "model = MusicGen.get_pretrained('ckpt/cond_finetune_from_mid')\n",
    "dur = 16\n",
    "model.set_generation_params(duration=16, extend_stride=8)  # generate 8 seconds.\n",
    "\n",
    "file = f\"/home/cyan/workstation/DL_music/final/audiocraft/examples/vocal_lead/{number}.wav\"\n",
    "# file = f\"/home/cyan/workstation/DL_music/final/audiocraft/dataset/acca_32k/vocal/{number}.wav\"\n",
    "accom_f = f\"/home/cyan/workstation/DL_music/final/audiocraft/examples/gt_accom/{number}.wav\"\n",
    "\n",
    "vocal, sr = librosa.load(file, sr=32000)\n",
    "vocal = vocal[int(sr*start):int(sr*(dur+start))]\n",
    "\n",
    "melody, sr = torchaudio.load(file)\n",
    "melody = torchaudio.functional.resample(melody, orig_freq=sr, new_freq=22050)\n",
    "melody = melody[:, int(22050*start):int(22050*(dur+start))]\n",
    "# melody = torchaudio.functional.resample(melody, orig_freq=32000, new_freq=22050)\n",
    "\n",
    "\n",
    "prompt, sr = torchaudio.load(accom_f)\n",
    "prompt = torchaudio.functional.resample(prompt, orig_freq=sr, new_freq=32000)\n",
    "prompt = prompt[:, int(32000*start):int(32000*(4+start))]\n",
    "\n",
    "descriptions = [''] * 16\n",
    "# wav = model.generate_with_vocal_lead(descriptions, melody[None].expand(16, -1, -1), sr)  # generates 3 samples.\n",
    "wav = model.generate_with_vocal_lead_and_prompt(descriptions, melody[None].expand(16, -1, -1), prompt[None].expand(16, -1, -1), 22050, 32000)\n",
    "\n",
    "for idx, one_wav in enumerate(wav):\n",
    "    audio_write(f'examples/cherry_pick/{idx}', one_wav.cpu(), model.sample_rate, strategy=\"loudness\", loudness_compressor=True)\n",
    "    audio_write(f'examples/cherry_pick/merge_{idx}', one_wav.cpu()*0.5 + vocal[None], model.sample_rate, strategy=\"loudness\", loudness_compressor=True)\n",
    "\n"
   ]
  },
  {
   "cell_type": "code",
   "execution_count": null,
   "metadata": {},
   "outputs": [],
   "source": []
  }
 ],
 "metadata": {
  "kernelspec": {
   "display_name": "DL_music",
   "language": "python",
   "name": "python3"
  },
  "language_info": {
   "codemirror_mode": {
    "name": "ipython",
    "version": 3
   },
   "file_extension": ".py",
   "mimetype": "text/x-python",
   "name": "python",
   "nbconvert_exporter": "python",
   "pygments_lexer": "ipython3",
   "version": "3.9.18"
  }
 },
 "nbformat": 4,
 "nbformat_minor": 2
}
